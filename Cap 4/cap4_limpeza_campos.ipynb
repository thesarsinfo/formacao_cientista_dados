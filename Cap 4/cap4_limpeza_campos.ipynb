{
 "cells": [
  {
   "cell_type": "code",
   "execution_count": 2,
   "metadata": {},
   "outputs": [],
   "source": [
    "import pandas as pd"
   ]
  },
  {
   "cell_type": "code",
   "execution_count": 3,
   "metadata": {},
   "outputs": [
    {
     "name": "stderr",
     "output_type": "stream",
     "text": [
      "/tmp/ipykernel_59325/3487577710.py:5: SettingWithCopyWarning: \n",
      "A value is trying to be set on a copy of a slice from a DataFrame.\n",
      "Try using .loc[row_indexer,col_indexer] = value instead\n",
      "\n",
      "See the caveats in the documentation: https://pandas.pydata.org/pandas-docs/stable/user_guide/indexing.html#returning-a-view-versus-a-copy\n",
      "  sea_crime_menor_df[\"Report DateTime\"] = pd.to_datetime(sea_crime_menor_df[\"Report DateTime\"])\n",
      "/tmp/ipykernel_59325/3487577710.py:6: SettingWithCopyWarning: \n",
      "A value is trying to be set on a copy of a slice from a DataFrame.\n",
      "Try using .loc[row_indexer,col_indexer] = value instead\n",
      "\n",
      "See the caveats in the documentation: https://pandas.pydata.org/pandas-docs/stable/user_guide/indexing.html#returning-a-view-versus-a-copy\n",
      "  sea_crime_menor_df[\"Mes\"] = sea_crime_menor_df[\"Report DateTime\"].dt.month\n",
      "/tmp/ipykernel_59325/3487577710.py:7: SettingWithCopyWarning: \n",
      "A value is trying to be set on a copy of a slice from a DataFrame.\n",
      "Try using .loc[row_indexer,col_indexer] = value instead\n",
      "\n",
      "See the caveats in the documentation: https://pandas.pydata.org/pandas-docs/stable/user_guide/indexing.html#returning-a-view-versus-a-copy\n",
      "  sea_crime_menor_df[\"Ano\"] = sea_crime_menor_df[\"Report DateTime\"].dt.year\n"
     ]
    },
    {
     "data": {
      "text/html": [
       "<div>\n",
       "<style scoped>\n",
       "    .dataframe tbody tr th:only-of-type {\n",
       "        vertical-align: middle;\n",
       "    }\n",
       "\n",
       "    .dataframe tbody tr th {\n",
       "        vertical-align: top;\n",
       "    }\n",
       "\n",
       "    .dataframe thead th {\n",
       "        text-align: right;\n",
       "    }\n",
       "</style>\n",
       "<table border=\"1\" class=\"dataframe\">\n",
       "  <thead>\n",
       "    <tr style=\"text-align: right;\">\n",
       "      <th></th>\n",
       "      <th>Offense ID</th>\n",
       "      <th>Report DateTime</th>\n",
       "      <th>Offense Parent Group</th>\n",
       "      <th>Longitude</th>\n",
       "      <th>Latitude</th>\n",
       "      <th>Mes</th>\n",
       "      <th>Ano</th>\n",
       "    </tr>\n",
       "  </thead>\n",
       "  <tbody>\n",
       "    <tr>\n",
       "      <th>0</th>\n",
       "      <td>12605873663</td>\n",
       "      <td>2020-02-05 11:24:31</td>\n",
       "      <td>DRUG/NARCOTIC OFFENSES</td>\n",
       "      <td>-122.385974</td>\n",
       "      <td>47.649387</td>\n",
       "      <td>2</td>\n",
       "      <td>2020</td>\n",
       "    </tr>\n",
       "    <tr>\n",
       "      <th>1</th>\n",
       "      <td>12605598696</td>\n",
       "      <td>2020-02-05 10:06:28</td>\n",
       "      <td>LARCENY-THEFT</td>\n",
       "      <td>-122.323399</td>\n",
       "      <td>47.675118</td>\n",
       "      <td>2</td>\n",
       "      <td>2020</td>\n",
       "    </tr>\n",
       "    <tr>\n",
       "      <th>2</th>\n",
       "      <td>12605567653</td>\n",
       "      <td>2020-02-05 09:39:33</td>\n",
       "      <td>ROBBERY</td>\n",
       "      <td>-122.299552</td>\n",
       "      <td>47.666384</td>\n",
       "      <td>2</td>\n",
       "      <td>2020</td>\n",
       "    </tr>\n",
       "    <tr>\n",
       "      <th>3</th>\n",
       "      <td>12605174036</td>\n",
       "      <td>2020-02-05 03:30:55</td>\n",
       "      <td>DESTRUCTION/DAMAGE/VANDALISM OF PROPERTY</td>\n",
       "      <td>-122.384865</td>\n",
       "      <td>47.642927</td>\n",
       "      <td>2</td>\n",
       "      <td>2020</td>\n",
       "    </tr>\n",
       "    <tr>\n",
       "      <th>4</th>\n",
       "      <td>12605081469</td>\n",
       "      <td>2020-02-05 12:51:31</td>\n",
       "      <td>DRIVING UNDER THE INFLUENCE</td>\n",
       "      <td>-122.366195</td>\n",
       "      <td>47.662193</td>\n",
       "      <td>2</td>\n",
       "      <td>2020</td>\n",
       "    </tr>\n",
       "  </tbody>\n",
       "</table>\n",
       "</div>"
      ],
      "text/plain": [
       "    Offense ID     Report DateTime                      Offense Parent Group   \n",
       "0  12605873663 2020-02-05 11:24:31                    DRUG/NARCOTIC OFFENSES  \\\n",
       "1  12605598696 2020-02-05 10:06:28                             LARCENY-THEFT   \n",
       "2  12605567653 2020-02-05 09:39:33                                   ROBBERY   \n",
       "3  12605174036 2020-02-05 03:30:55  DESTRUCTION/DAMAGE/VANDALISM OF PROPERTY   \n",
       "4  12605081469 2020-02-05 12:51:31               DRIVING UNDER THE INFLUENCE   \n",
       "\n",
       "    Longitude   Latitude  Mes   Ano  \n",
       "0 -122.385974  47.649387    2  2020  \n",
       "1 -122.323399  47.675118    2  2020  \n",
       "2 -122.299552  47.666384    2  2020  \n",
       "3 -122.384865  47.642927    2  2020  \n",
       "4 -122.366195  47.662193    2  2020  "
      ]
     },
     "execution_count": 3,
     "metadata": {},
     "output_type": "execute_result"
    }
   ],
   "source": [
    "sea_crime_df = pd.read_csv('../Datasets/SeatleCrime.csv')\n",
    "ano_df = pd.DataFrame()\n",
    "sea_crime_menor_df = sea_crime_df.iloc[:,[1,4,7,15,16]]\n",
    "\n",
    "sea_crime_menor_df[\"Report DateTime\"] = pd.to_datetime(sea_crime_menor_df[\"Report DateTime\"])\n",
    "sea_crime_menor_df[\"Mes\"] = sea_crime_menor_df[\"Report DateTime\"].dt.month\n",
    "sea_crime_menor_df[\"Ano\"] = sea_crime_menor_df[\"Report DateTime\"].dt.year\n",
    "\n",
    "sea_crime_menor_df.head()"
   ]
  },
  {
   "cell_type": "code",
   "execution_count": 5,
   "metadata": {},
   "outputs": [],
   "source": [
    "crime_seatle_2021_2022_df = pd.DataFrame()\n",
    "crime_seatle_2021_2022_df[[\"Id Crime\",\"Mes\",\"Ano\",\"Categoria\",\"Longitude\",\"Latitude\"]] = \\\n",
    "                sea_crime_menor_df[[\"Offense ID\",\"Mes\",\"Ano\",\"Offense Parent Group\",\"Longitude\",\"Latitude\"]]\n",
    "crime_seatle_2021_2022_df =  crime_seatle_2021_2022_df[(crime_seatle_2021_2022_df['Ano'] == 2021) | \\\n",
    "                             (crime_seatle_2021_2022_df['Ano'] == 2022) ]\n",
    "crime_seatle_2021_2022_df.to_csv(\"../Datasets/CrimeSeatle2021-2022.csv\")"
   ]
  },
  {
   "cell_type": "code",
   "execution_count": 8,
   "metadata": {},
   "outputs": [
    {
     "name": "stdout",
     "output_type": "stream",
     "text": [
      "<class 'pandas.core.frame.DataFrame'>\n",
      "Index: 146819 entries, 851237 to 1068745\n",
      "Data columns (total 6 columns):\n",
      " #   Column     Non-Null Count   Dtype  \n",
      "---  ------     --------------   -----  \n",
      " 0   Id Crime   146819 non-null  int64  \n",
      " 1   Mes        146819 non-null  int32  \n",
      " 2   Ano        146819 non-null  int32  \n",
      " 3   Categoria  146819 non-null  object \n",
      " 4   Longitude  146819 non-null  float64\n",
      " 5   Latitude   146819 non-null  float64\n",
      "dtypes: float64(2), int32(2), int64(1), object(1)\n",
      "memory usage: 6.7+ MB\n"
     ]
    }
   ],
   "source": [
    "crime_seatle_2021_2022_df.info()"
   ]
  }
 ],
 "metadata": {
  "kernelspec": {
   "display_name": "Python 3",
   "language": "python",
   "name": "python3"
  },
  "language_info": {
   "codemirror_mode": {
    "name": "ipython",
    "version": 3
   },
   "file_extension": ".py",
   "mimetype": "text/x-python",
   "name": "python",
   "nbconvert_exporter": "python",
   "pygments_lexer": "ipython3",
   "version": "3.10.12"
  },
  "orig_nbformat": 4
 },
 "nbformat": 4,
 "nbformat_minor": 2
}
