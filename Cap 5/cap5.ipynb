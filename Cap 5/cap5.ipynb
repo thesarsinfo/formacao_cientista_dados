{
 "cells": [
  {
   "cell_type": "code",
   "execution_count": 6,
   "metadata": {},
   "outputs": [],
   "source": [
    "import pandas as pd\n",
    "import datetime\n",
    "import yfinance as yf"
   ]
  },
  {
   "cell_type": "code",
   "execution_count": 28,
   "metadata": {},
   "outputs": [
    {
     "name": "stdout",
     "output_type": "stream",
     "text": [
      "[*********************100%%**********************]  1 of 1 completed\n",
      "                 Open       High        Low      Close  Adj Close     Volume\n",
      "Date                                                                        \n",
      "2022-09-21  31.350000  31.469999  30.889999  31.170000  21.944429   58812200\n",
      "2022-09-22  31.480000  32.080002  31.030001  31.940001  22.486528   69764300\n",
      "2022-09-23  31.320000  31.389999  29.770000  29.940001  21.078480  138630800\n",
      "2022-09-26  29.719999  30.080000  29.270000  29.290001  20.620863   42934600\n",
      "2022-09-27  29.660000  29.879999  29.580000  29.670000  20.888393   71087600\n"
     ]
    }
   ],
   "source": [
    "data = pd.DataFrame\n",
    "start_date = datetime.datetime(2022, 9, 21)\n",
    "end_date = datetime.datetime(2023, 9, 20)\n",
    "symbol = \"PETR4.SA\"\n",
    "data = yf.download(symbol, start=start_date, end=end_date)\n",
    "data.head()"
   ]
  }
 ],
 "metadata": {
  "kernelspec": {
   "display_name": "Python 3",
   "language": "python",
   "name": "python3"
  },
  "language_info": {
   "codemirror_mode": {
    "name": "ipython",
    "version": 3
   },
   "file_extension": ".py",
   "mimetype": "text/x-python",
   "name": "python",
   "nbconvert_exporter": "python",
   "pygments_lexer": "ipython3",
   "version": "3.10.12"
  },
  "orig_nbformat": 4
 },
 "nbformat": 4,
 "nbformat_minor": 2
}
